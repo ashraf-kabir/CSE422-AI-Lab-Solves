{
 "cells": [
  {
   "cell_type": "code",
   "execution_count": 8,
   "metadata": {},
   "outputs": [
    {
     "name": "stdout",
     "output_type": "stream",
     "text": [
      "   attempts\n",
      "0         1\n",
      "1         3\n",
      "2         2\n",
      "3         3\n",
      "4         2\n",
      "5         3\n",
      "6         1\n",
      "7         1\n",
      "8         2\n",
      "9         1\n",
      "   qualified\n",
      "0          1\n",
      "1          0\n",
      "2          1\n",
      "3          0\n",
      "4          0\n",
      "5          1\n",
      "6          0\n",
      "7          0\n",
      "8          0\n",
      "9          1\n",
      "        name  scores  attempts  qualified\n",
      "0  Anastasia    12.5         1          1\n",
      "1       Dima     9.0         3          0\n",
      "2  Katherine    16.5         2          1\n",
      "3      James     2.3         3          0\n",
      "4      Emily     9.0         2          0\n",
      "5    Michael    20.0         3          1\n",
      "6    Matthew    14.5         1          0\n",
      "7      Laura     4.5         1          0\n",
      "8      Kevin     8.0         2          0\n",
      "9      Jonas    19.0         1          1\n"
     ]
    }
   ],
   "source": [
    "import numpy as np\n",
    "import pandas as pd\n",
    "\n",
    "examinee = pd.DataFrame({'name': [\"Anastasia\", \"Dima\", \"Katherine\", \"James\", \"Emily\", \"Michael\", \"Matthew\", \"Laura\", \"Kevin\", \"Jonas\"],\n",
    "            'scores': [12.5, 9, 16.5, 2.3, 9, 20, 14.5, 4.5, 8, 19],\n",
    "            'attempts': [1, 3, 2, 3, 2, 3, 1, 1, 2, 1],\n",
    "            'qualified': [\"yes\", \"no\", \"yes\", \"no\", \"no\", \"yes\", \"no\", \"no\", \"no\", \"yes\"]\n",
    "           })\n",
    "print(examinee[['attempts']])\n",
    "examinee = examinee.replace({'qualified':'yes'},1)\n",
    "examinee = examinee.replace({'qualified':'no'},0)\n",
    "print(examinee[['qualified']])\n",
    "print(examinee)"
   ]
  },
  {
   "cell_type": "code",
   "execution_count": null,
   "metadata": {},
   "outputs": [],
   "source": []
  }
 ],
 "metadata": {
  "kernelspec": {
   "display_name": "Python 3",
   "language": "python",
   "name": "python3"
  }
 },
 "nbformat": 4,
 "nbformat_minor": 2
}
